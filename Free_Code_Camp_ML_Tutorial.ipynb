{
  "nbformat": 4,
  "nbformat_minor": 0,
  "metadata": {
    "colab": {
      "provenance": [],
      "authorship_tag": "ABX9TyOZeQ+KdwzYx4R58chMlemH",
      "include_colab_link": true
    },
    "kernelspec": {
      "name": "python3",
      "display_name": "Python 3"
    },
    "language_info": {
      "name": "python"
    }
  },
  "cells": [
    {
      "cell_type": "markdown",
      "metadata": {
        "id": "view-in-github",
        "colab_type": "text"
      },
      "source": [
        "<a href=\"https://colab.research.google.com/github/Johno4308/ML_googleColab/blob/main/Free_Code_Camp_ML_Tutorial.ipynb\" target=\"_parent\"><img src=\"https://colab.research.google.com/assets/colab-badge.svg\" alt=\"Open In Colab\"/></a>"
      ]
    },
    {
      "cell_type": "code",
      "execution_count": 3,
      "metadata": {
        "id": "atVuaT2kKYVQ"
      },
      "outputs": [],
      "source": [
        "import numpy as np\n",
        "import pandas as pd\n",
        "import matplotlib.pyplot as plt\n",
        "from sklearn.preprocessing import StandardScaler\n",
        "from imblearn.over_sampling import RandomOverSampler"
      ]
    },
    {
      "cell_type": "markdown",
      "source": [
        "FREE CODE CAMP:\n",
        "WHERE THE DATASET WAS FOUND\n",
        "The data are MC generated (see below) to simulate registration of high energy gamma particles in a ground-based atmospheric Cherenkov gamma telescope using the imaging technique. Cherenkov gamma telescope observes high energy gamma rays, taking advantage of the radiation emitted by charged particles produced inside the electromagnetic showers initiated by the gammas, and developing in the atmosphere.\n",
        "https://archive.ics.uci.edu/dataset/159/magic+gamma+telescope"
      ],
      "metadata": {
        "id": "whYmkSo1KzV7"
      }
    },
    {
      "cell_type": "code",
      "source": [
        "cols = [\"fLength\", \"fWidth\", \"fSize\", \"fConc\", \"fAsym\", \"fM3Loong\", \"fM3Trans\", \"fAplha\", \"fDist\", \"class\"]\n",
        "df = pd.read_csv('magic04.data', names=cols)\n",
        "df.head() #head is first 5 things"
      ],
      "metadata": {
        "colab": {
          "base_uri": "https://localhost:8080/",
          "height": 206
        },
        "id": "TzGh7DqBLAdS",
        "outputId": "6868e66f-a3dc-4513-c45f-320aafabe998"
      },
      "execution_count": 4,
      "outputs": [
        {
          "output_type": "execute_result",
          "data": {
            "text/plain": [
              "           fLength  fWidth   fSize   fConc     fAsym  fM3Loong  fM3Trans  \\\n",
              "28.7967    16.0021  2.6449  0.3918  0.1982   27.7004   22.0110   -8.2027   \n",
              "31.6036    11.7235  2.5185  0.5303  0.3773   26.2722   23.8238   -9.9574   \n",
              "162.0520  136.0310  4.0612  0.0374  0.0187  116.7410  -64.8580  -45.2160   \n",
              "23.8172     9.5728  2.3385  0.6147  0.3922   27.2107   -6.4633   -7.1513   \n",
              "75.1362    30.9205  3.1611  0.3168  0.1832   -5.5277   28.5525   21.8393   \n",
              "\n",
              "           fAplha     fDist class  \n",
              "28.7967   40.0920   81.8828     g  \n",
              "31.6036    6.3609  205.2610     g  \n",
              "162.0520  76.9600  256.7880     g  \n",
              "23.8172   10.4490  116.7370     g  \n",
              "75.1362    4.6480  356.4620     g  "
            ],
            "text/html": [
              "\n",
              "  <div id=\"df-f28ba2b7-c667-445e-ae20-a431547ef0db\">\n",
              "    <div class=\"colab-df-container\">\n",
              "      <div>\n",
              "<style scoped>\n",
              "    .dataframe tbody tr th:only-of-type {\n",
              "        vertical-align: middle;\n",
              "    }\n",
              "\n",
              "    .dataframe tbody tr th {\n",
              "        vertical-align: top;\n",
              "    }\n",
              "\n",
              "    .dataframe thead th {\n",
              "        text-align: right;\n",
              "    }\n",
              "</style>\n",
              "<table border=\"1\" class=\"dataframe\">\n",
              "  <thead>\n",
              "    <tr style=\"text-align: right;\">\n",
              "      <th></th>\n",
              "      <th>fLength</th>\n",
              "      <th>fWidth</th>\n",
              "      <th>fSize</th>\n",
              "      <th>fConc</th>\n",
              "      <th>fAsym</th>\n",
              "      <th>fM3Loong</th>\n",
              "      <th>fM3Trans</th>\n",
              "      <th>fAplha</th>\n",
              "      <th>fDist</th>\n",
              "      <th>class</th>\n",
              "    </tr>\n",
              "  </thead>\n",
              "  <tbody>\n",
              "    <tr>\n",
              "      <th>28.7967</th>\n",
              "      <td>16.0021</td>\n",
              "      <td>2.6449</td>\n",
              "      <td>0.3918</td>\n",
              "      <td>0.1982</td>\n",
              "      <td>27.7004</td>\n",
              "      <td>22.0110</td>\n",
              "      <td>-8.2027</td>\n",
              "      <td>40.0920</td>\n",
              "      <td>81.8828</td>\n",
              "      <td>g</td>\n",
              "    </tr>\n",
              "    <tr>\n",
              "      <th>31.6036</th>\n",
              "      <td>11.7235</td>\n",
              "      <td>2.5185</td>\n",
              "      <td>0.5303</td>\n",
              "      <td>0.3773</td>\n",
              "      <td>26.2722</td>\n",
              "      <td>23.8238</td>\n",
              "      <td>-9.9574</td>\n",
              "      <td>6.3609</td>\n",
              "      <td>205.2610</td>\n",
              "      <td>g</td>\n",
              "    </tr>\n",
              "    <tr>\n",
              "      <th>162.0520</th>\n",
              "      <td>136.0310</td>\n",
              "      <td>4.0612</td>\n",
              "      <td>0.0374</td>\n",
              "      <td>0.0187</td>\n",
              "      <td>116.7410</td>\n",
              "      <td>-64.8580</td>\n",
              "      <td>-45.2160</td>\n",
              "      <td>76.9600</td>\n",
              "      <td>256.7880</td>\n",
              "      <td>g</td>\n",
              "    </tr>\n",
              "    <tr>\n",
              "      <th>23.8172</th>\n",
              "      <td>9.5728</td>\n",
              "      <td>2.3385</td>\n",
              "      <td>0.6147</td>\n",
              "      <td>0.3922</td>\n",
              "      <td>27.2107</td>\n",
              "      <td>-6.4633</td>\n",
              "      <td>-7.1513</td>\n",
              "      <td>10.4490</td>\n",
              "      <td>116.7370</td>\n",
              "      <td>g</td>\n",
              "    </tr>\n",
              "    <tr>\n",
              "      <th>75.1362</th>\n",
              "      <td>30.9205</td>\n",
              "      <td>3.1611</td>\n",
              "      <td>0.3168</td>\n",
              "      <td>0.1832</td>\n",
              "      <td>-5.5277</td>\n",
              "      <td>28.5525</td>\n",
              "      <td>21.8393</td>\n",
              "      <td>4.6480</td>\n",
              "      <td>356.4620</td>\n",
              "      <td>g</td>\n",
              "    </tr>\n",
              "  </tbody>\n",
              "</table>\n",
              "</div>\n",
              "      <button class=\"colab-df-convert\" onclick=\"convertToInteractive('df-f28ba2b7-c667-445e-ae20-a431547ef0db')\"\n",
              "              title=\"Convert this dataframe to an interactive table.\"\n",
              "              style=\"display:none;\">\n",
              "        \n",
              "  <svg xmlns=\"http://www.w3.org/2000/svg\" height=\"24px\"viewBox=\"0 0 24 24\"\n",
              "       width=\"24px\">\n",
              "    <path d=\"M0 0h24v24H0V0z\" fill=\"none\"/>\n",
              "    <path d=\"M18.56 5.44l.94 2.06.94-2.06 2.06-.94-2.06-.94-.94-2.06-.94 2.06-2.06.94zm-11 1L8.5 8.5l.94-2.06 2.06-.94-2.06-.94L8.5 2.5l-.94 2.06-2.06.94zm10 10l.94 2.06.94-2.06 2.06-.94-2.06-.94-.94-2.06-.94 2.06-2.06.94z\"/><path d=\"M17.41 7.96l-1.37-1.37c-.4-.4-.92-.59-1.43-.59-.52 0-1.04.2-1.43.59L10.3 9.45l-7.72 7.72c-.78.78-.78 2.05 0 2.83L4 21.41c.39.39.9.59 1.41.59.51 0 1.02-.2 1.41-.59l7.78-7.78 2.81-2.81c.8-.78.8-2.07 0-2.86zM5.41 20L4 18.59l7.72-7.72 1.47 1.35L5.41 20z\"/>\n",
              "  </svg>\n",
              "      </button>\n",
              "      \n",
              "  <style>\n",
              "    .colab-df-container {\n",
              "      display:flex;\n",
              "      flex-wrap:wrap;\n",
              "      gap: 12px;\n",
              "    }\n",
              "\n",
              "    .colab-df-convert {\n",
              "      background-color: #E8F0FE;\n",
              "      border: none;\n",
              "      border-radius: 50%;\n",
              "      cursor: pointer;\n",
              "      display: none;\n",
              "      fill: #1967D2;\n",
              "      height: 32px;\n",
              "      padding: 0 0 0 0;\n",
              "      width: 32px;\n",
              "    }\n",
              "\n",
              "    .colab-df-convert:hover {\n",
              "      background-color: #E2EBFA;\n",
              "      box-shadow: 0px 1px 2px rgba(60, 64, 67, 0.3), 0px 1px 3px 1px rgba(60, 64, 67, 0.15);\n",
              "      fill: #174EA6;\n",
              "    }\n",
              "\n",
              "    [theme=dark] .colab-df-convert {\n",
              "      background-color: #3B4455;\n",
              "      fill: #D2E3FC;\n",
              "    }\n",
              "\n",
              "    [theme=dark] .colab-df-convert:hover {\n",
              "      background-color: #434B5C;\n",
              "      box-shadow: 0px 1px 3px 1px rgba(0, 0, 0, 0.15);\n",
              "      filter: drop-shadow(0px 1px 2px rgba(0, 0, 0, 0.3));\n",
              "      fill: #FFFFFF;\n",
              "    }\n",
              "  </style>\n",
              "\n",
              "      <script>\n",
              "        const buttonEl =\n",
              "          document.querySelector('#df-f28ba2b7-c667-445e-ae20-a431547ef0db button.colab-df-convert');\n",
              "        buttonEl.style.display =\n",
              "          google.colab.kernel.accessAllowed ? 'block' : 'none';\n",
              "\n",
              "        async function convertToInteractive(key) {\n",
              "          const element = document.querySelector('#df-f28ba2b7-c667-445e-ae20-a431547ef0db');\n",
              "          const dataTable =\n",
              "            await google.colab.kernel.invokeFunction('convertToInteractive',\n",
              "                                                     [key], {});\n",
              "          if (!dataTable) return;\n",
              "\n",
              "          const docLinkHtml = 'Like what you see? Visit the ' +\n",
              "            '<a target=\"_blank\" href=https://colab.research.google.com/notebooks/data_table.ipynb>data table notebook</a>'\n",
              "            + ' to learn more about interactive tables.';\n",
              "          element.innerHTML = '';\n",
              "          dataTable['output_type'] = 'display_data';\n",
              "          await google.colab.output.renderOutput(dataTable, element);\n",
              "          const docLink = document.createElement('div');\n",
              "          docLink.innerHTML = docLinkHtml;\n",
              "          element.appendChild(docLink);\n",
              "        }\n",
              "      </script>\n",
              "    </div>\n",
              "  </div>\n",
              "  "
            ]
          },
          "metadata": {},
          "execution_count": 4
        }
      ]
    },
    {
      "cell_type": "code",
      "source": [
        "df[\"class\"] = (df[\"class\"] == \"g\").astype(int)"
      ],
      "metadata": {
        "id": "Opq_PdyWMKYz"
      },
      "execution_count": 5,
      "outputs": []
    },
    {
      "cell_type": "code",
      "source": [
        "df.head()"
      ],
      "metadata": {
        "colab": {
          "base_uri": "https://localhost:8080/",
          "height": 206
        },
        "id": "q6v4HbAiR_Iz",
        "outputId": "691ab828-cb2a-40ed-cba2-51a5208f0fbc"
      },
      "execution_count": null,
      "outputs": [
        {
          "output_type": "execute_result",
          "data": {
            "text/plain": [
              "           fLength  fWidth   fSize   fConc     fAsym  fM3Loong  fM3Trans  \\\n",
              "28.7967    16.0021  2.6449  0.3918  0.1982   27.7004   22.0110   -8.2027   \n",
              "31.6036    11.7235  2.5185  0.5303  0.3773   26.2722   23.8238   -9.9574   \n",
              "162.0520  136.0310  4.0612  0.0374  0.0187  116.7410  -64.8580  -45.2160   \n",
              "23.8172     9.5728  2.3385  0.6147  0.3922   27.2107   -6.4633   -7.1513   \n",
              "75.1362    30.9205  3.1611  0.3168  0.1832   -5.5277   28.5525   21.8393   \n",
              "\n",
              "           fAplha     fDist  class  \n",
              "28.7967   40.0920   81.8828      1  \n",
              "31.6036    6.3609  205.2610      1  \n",
              "162.0520  76.9600  256.7880      1  \n",
              "23.8172   10.4490  116.7370      1  \n",
              "75.1362    4.6480  356.4620      1  "
            ],
            "text/html": [
              "\n",
              "  <div id=\"df-a9eaf8f8-1459-4c5c-951e-5c14821a464c\">\n",
              "    <div class=\"colab-df-container\">\n",
              "      <div>\n",
              "<style scoped>\n",
              "    .dataframe tbody tr th:only-of-type {\n",
              "        vertical-align: middle;\n",
              "    }\n",
              "\n",
              "    .dataframe tbody tr th {\n",
              "        vertical-align: top;\n",
              "    }\n",
              "\n",
              "    .dataframe thead th {\n",
              "        text-align: right;\n",
              "    }\n",
              "</style>\n",
              "<table border=\"1\" class=\"dataframe\">\n",
              "  <thead>\n",
              "    <tr style=\"text-align: right;\">\n",
              "      <th></th>\n",
              "      <th>fLength</th>\n",
              "      <th>fWidth</th>\n",
              "      <th>fSize</th>\n",
              "      <th>fConc</th>\n",
              "      <th>fAsym</th>\n",
              "      <th>fM3Loong</th>\n",
              "      <th>fM3Trans</th>\n",
              "      <th>fAplha</th>\n",
              "      <th>fDist</th>\n",
              "      <th>class</th>\n",
              "    </tr>\n",
              "  </thead>\n",
              "  <tbody>\n",
              "    <tr>\n",
              "      <th>28.7967</th>\n",
              "      <td>16.0021</td>\n",
              "      <td>2.6449</td>\n",
              "      <td>0.3918</td>\n",
              "      <td>0.1982</td>\n",
              "      <td>27.7004</td>\n",
              "      <td>22.0110</td>\n",
              "      <td>-8.2027</td>\n",
              "      <td>40.0920</td>\n",
              "      <td>81.8828</td>\n",
              "      <td>1</td>\n",
              "    </tr>\n",
              "    <tr>\n",
              "      <th>31.6036</th>\n",
              "      <td>11.7235</td>\n",
              "      <td>2.5185</td>\n",
              "      <td>0.5303</td>\n",
              "      <td>0.3773</td>\n",
              "      <td>26.2722</td>\n",
              "      <td>23.8238</td>\n",
              "      <td>-9.9574</td>\n",
              "      <td>6.3609</td>\n",
              "      <td>205.2610</td>\n",
              "      <td>1</td>\n",
              "    </tr>\n",
              "    <tr>\n",
              "      <th>162.0520</th>\n",
              "      <td>136.0310</td>\n",
              "      <td>4.0612</td>\n",
              "      <td>0.0374</td>\n",
              "      <td>0.0187</td>\n",
              "      <td>116.7410</td>\n",
              "      <td>-64.8580</td>\n",
              "      <td>-45.2160</td>\n",
              "      <td>76.9600</td>\n",
              "      <td>256.7880</td>\n",
              "      <td>1</td>\n",
              "    </tr>\n",
              "    <tr>\n",
              "      <th>23.8172</th>\n",
              "      <td>9.5728</td>\n",
              "      <td>2.3385</td>\n",
              "      <td>0.6147</td>\n",
              "      <td>0.3922</td>\n",
              "      <td>27.2107</td>\n",
              "      <td>-6.4633</td>\n",
              "      <td>-7.1513</td>\n",
              "      <td>10.4490</td>\n",
              "      <td>116.7370</td>\n",
              "      <td>1</td>\n",
              "    </tr>\n",
              "    <tr>\n",
              "      <th>75.1362</th>\n",
              "      <td>30.9205</td>\n",
              "      <td>3.1611</td>\n",
              "      <td>0.3168</td>\n",
              "      <td>0.1832</td>\n",
              "      <td>-5.5277</td>\n",
              "      <td>28.5525</td>\n",
              "      <td>21.8393</td>\n",
              "      <td>4.6480</td>\n",
              "      <td>356.4620</td>\n",
              "      <td>1</td>\n",
              "    </tr>\n",
              "  </tbody>\n",
              "</table>\n",
              "</div>\n",
              "      <button class=\"colab-df-convert\" onclick=\"convertToInteractive('df-a9eaf8f8-1459-4c5c-951e-5c14821a464c')\"\n",
              "              title=\"Convert this dataframe to an interactive table.\"\n",
              "              style=\"display:none;\">\n",
              "        \n",
              "  <svg xmlns=\"http://www.w3.org/2000/svg\" height=\"24px\"viewBox=\"0 0 24 24\"\n",
              "       width=\"24px\">\n",
              "    <path d=\"M0 0h24v24H0V0z\" fill=\"none\"/>\n",
              "    <path d=\"M18.56 5.44l.94 2.06.94-2.06 2.06-.94-2.06-.94-.94-2.06-.94 2.06-2.06.94zm-11 1L8.5 8.5l.94-2.06 2.06-.94-2.06-.94L8.5 2.5l-.94 2.06-2.06.94zm10 10l.94 2.06.94-2.06 2.06-.94-2.06-.94-.94-2.06-.94 2.06-2.06.94z\"/><path d=\"M17.41 7.96l-1.37-1.37c-.4-.4-.92-.59-1.43-.59-.52 0-1.04.2-1.43.59L10.3 9.45l-7.72 7.72c-.78.78-.78 2.05 0 2.83L4 21.41c.39.39.9.59 1.41.59.51 0 1.02-.2 1.41-.59l7.78-7.78 2.81-2.81c.8-.78.8-2.07 0-2.86zM5.41 20L4 18.59l7.72-7.72 1.47 1.35L5.41 20z\"/>\n",
              "  </svg>\n",
              "      </button>\n",
              "      \n",
              "  <style>\n",
              "    .colab-df-container {\n",
              "      display:flex;\n",
              "      flex-wrap:wrap;\n",
              "      gap: 12px;\n",
              "    }\n",
              "\n",
              "    .colab-df-convert {\n",
              "      background-color: #E8F0FE;\n",
              "      border: none;\n",
              "      border-radius: 50%;\n",
              "      cursor: pointer;\n",
              "      display: none;\n",
              "      fill: #1967D2;\n",
              "      height: 32px;\n",
              "      padding: 0 0 0 0;\n",
              "      width: 32px;\n",
              "    }\n",
              "\n",
              "    .colab-df-convert:hover {\n",
              "      background-color: #E2EBFA;\n",
              "      box-shadow: 0px 1px 2px rgba(60, 64, 67, 0.3), 0px 1px 3px 1px rgba(60, 64, 67, 0.15);\n",
              "      fill: #174EA6;\n",
              "    }\n",
              "\n",
              "    [theme=dark] .colab-df-convert {\n",
              "      background-color: #3B4455;\n",
              "      fill: #D2E3FC;\n",
              "    }\n",
              "\n",
              "    [theme=dark] .colab-df-convert:hover {\n",
              "      background-color: #434B5C;\n",
              "      box-shadow: 0px 1px 3px 1px rgba(0, 0, 0, 0.15);\n",
              "      filter: drop-shadow(0px 1px 2px rgba(0, 0, 0, 0.3));\n",
              "      fill: #FFFFFF;\n",
              "    }\n",
              "  </style>\n",
              "\n",
              "      <script>\n",
              "        const buttonEl =\n",
              "          document.querySelector('#df-a9eaf8f8-1459-4c5c-951e-5c14821a464c button.colab-df-convert');\n",
              "        buttonEl.style.display =\n",
              "          google.colab.kernel.accessAllowed ? 'block' : 'none';\n",
              "\n",
              "        async function convertToInteractive(key) {\n",
              "          const element = document.querySelector('#df-a9eaf8f8-1459-4c5c-951e-5c14821a464c');\n",
              "          const dataTable =\n",
              "            await google.colab.kernel.invokeFunction('convertToInteractive',\n",
              "                                                     [key], {});\n",
              "          if (!dataTable) return;\n",
              "\n",
              "          const docLinkHtml = 'Like what you see? Visit the ' +\n",
              "            '<a target=\"_blank\" href=https://colab.research.google.com/notebooks/data_table.ipynb>data table notebook</a>'\n",
              "            + ' to learn more about interactive tables.';\n",
              "          element.innerHTML = '';\n",
              "          dataTable['output_type'] = 'display_data';\n",
              "          await google.colab.output.renderOutput(dataTable, element);\n",
              "          const docLink = document.createElement('div');\n",
              "          docLink.innerHTML = docLinkHtml;\n",
              "          element.appendChild(docLink);\n",
              "        }\n",
              "      </script>\n",
              "    </div>\n",
              "  </div>\n",
              "  "
            ]
          },
          "metadata": {},
          "execution_count": 9
        }
      ]
    },
    {
      "cell_type": "code",
      "source": [
        "# checking for comminality in gamma fLength column\n",
        "for label in cols[:-1]:\n",
        "  plt.hist(df[df[\"class\"]==1][label], color='blue', label='gamma', alpha=0.7, density=True)\n",
        "  plt.hist(df[df[\"class\"]==0][label], color='red', label='hadron', alpha=0.7, density=True)\n",
        "  plt.title(label)\n",
        "  plt.ylabel(\"Probability\")\n",
        "  plt.xlabel(label)\n",
        "  plt.legend()\n",
        "  plt.show()"
      ],
      "metadata": {
        "id": "Po3VHfixSJBT"
      },
      "execution_count": null,
      "outputs": []
    },
    {
      "cell_type": "markdown",
      "source": [
        "#Train, validation, test datasets"
      ],
      "metadata": {
        "id": "ZRKSwGzCUXLD"
      }
    },
    {
      "cell_type": "code",
      "source": [
        "# section out the data into the three categories\n",
        "# 60% for test, 20% for valid (60 to 80), and 20% for test (the rest)\n",
        "# print(df.shape)\n",
        "df = df.sample(frac=1).reset_index(drop=True)\n",
        "train, valid, test = np.split(df, [int(0.6*len(df)), int(0.8*len(df))])"
      ],
      "metadata": {
        "id": "10i_7JFyUc-i"
      },
      "execution_count": 7,
      "outputs": []
    },
    {
      "cell_type": "code",
      "source": [
        "# scaling the columns, making the function\n",
        "def scale_dataset(dataframe, oversample=False):\n",
        "  X = dataframe[dataframe.columns[:-1]].values\n",
        "  y = dataframe[dataframe.columns[-1]].values\n",
        "\n",
        "  scaler = StandardScaler()\n",
        "  X = scaler.fit_transform(X)\n",
        "\n",
        "  # to resample as there are more gamma then hadron\n",
        "  # basically keep sampling for the less class in increase the size of our data set\n",
        "  if oversample:\n",
        "    ros = RandomOverSampler()\n",
        "    X, y = ros.fit_resample(X, y)\n",
        "\n",
        "  data = np.hstack((X, np.reshape(y, (-1, 1))))\n",
        "\n",
        "\n",
        "  return data, X, y"
      ],
      "metadata": {
        "id": "y8iPkF-nXy9V"
      },
      "execution_count": 28,
      "outputs": []
    },
    {
      "cell_type": "code",
      "source": [
        "# seeing how many of each\n",
        "print(len(train[train[\"class\"]==1])) #gamma\n",
        "print(len(train[train[\"class\"]==0])) #hadron"
      ],
      "metadata": {
        "id": "suxivZbqZIJC"
      },
      "execution_count": null,
      "outputs": []
    },
    {
      "cell_type": "code",
      "source": [
        "train, X_train, y_train = scale_dataset(train, oversample=True)\n",
        "valid, X_valid, y_valid = scale_dataset(valid, oversample=False)\n",
        "test, X_test, y_test = scale_dataset(test, oversample=False)"
      ],
      "metadata": {
        "id": "ONt-JYH_aXwm"
      },
      "execution_count": 9,
      "outputs": []
    },
    {
      "cell_type": "code",
      "source": [
        "# the effects for RandomOverSampler\n",
        "len(y_train)"
      ],
      "metadata": {
        "colab": {
          "base_uri": "https://localhost:8080/"
        },
        "id": "KonCp82fbBT5",
        "outputId": "74742faa-8f57-4184-c468-d5f127c22c21"
      },
      "execution_count": 31,
      "outputs": [
        {
          "output_type": "execute_result",
          "data": {
            "text/plain": [
              "14778"
            ]
          },
          "metadata": {},
          "execution_count": 31
        }
      ]
    },
    {
      "cell_type": "code",
      "source": [
        "sum(y_train == 1)"
      ],
      "metadata": {
        "colab": {
          "base_uri": "https://localhost:8080/"
        },
        "id": "LMDuppASbUnc",
        "outputId": "41017219-0467-4b87-e455-be0e746ba07e"
      },
      "execution_count": 32,
      "outputs": [
        {
          "output_type": "execute_result",
          "data": {
            "text/plain": [
              "7389"
            ]
          },
          "metadata": {},
          "execution_count": 32
        }
      ]
    },
    {
      "cell_type": "code",
      "source": [
        "sum(y_train == 0)"
      ],
      "metadata": {
        "colab": {
          "base_uri": "https://localhost:8080/"
        },
        "id": "GhHeW0V-bVtb",
        "outputId": "c36f31da-33e8-4918-d234-358f303d57bd"
      },
      "execution_count": 33,
      "outputs": [
        {
          "output_type": "execute_result",
          "data": {
            "text/plain": [
              "7389"
            ]
          },
          "metadata": {},
          "execution_count": 33
        }
      ]
    },
    {
      "cell_type": "markdown",
      "source": [
        "# K NEAREST NEIGHBORS"
      ],
      "metadata": {
        "id": "49cCi0MUeEBP"
      }
    },
    {
      "cell_type": "code",
      "source": [
        "# define a distance function - euclidean distance\n",
        "from sklearn.neighbors import KNeighborsClassifier\n",
        "from sklearn.metrics import classification_report"
      ],
      "metadata": {
        "id": "mCfdq3wxcAVb"
      },
      "execution_count": 13,
      "outputs": []
    },
    {
      "cell_type": "code",
      "source": [
        "# the argument is how many neighbors we want to use\n",
        "knn_model = KNeighborsClassifier(n_neighbors=1)\n",
        "knn_model.fit(X_train, y_train)"
      ],
      "metadata": {
        "colab": {
          "base_uri": "https://localhost:8080/",
          "height": 74
        },
        "id": "juBkNrlFeZE5",
        "outputId": "970171b9-3546-49f7-a645-c78ae40b0746"
      },
      "execution_count": 34,
      "outputs": [
        {
          "output_type": "execute_result",
          "data": {
            "text/plain": [
              "KNeighborsClassifier(n_neighbors=1)"
            ],
            "text/html": [
              "<style>#sk-container-id-1 {color: black;background-color: white;}#sk-container-id-1 pre{padding: 0;}#sk-container-id-1 div.sk-toggleable {background-color: white;}#sk-container-id-1 label.sk-toggleable__label {cursor: pointer;display: block;width: 100%;margin-bottom: 0;padding: 0.3em;box-sizing: border-box;text-align: center;}#sk-container-id-1 label.sk-toggleable__label-arrow:before {content: \"▸\";float: left;margin-right: 0.25em;color: #696969;}#sk-container-id-1 label.sk-toggleable__label-arrow:hover:before {color: black;}#sk-container-id-1 div.sk-estimator:hover label.sk-toggleable__label-arrow:before {color: black;}#sk-container-id-1 div.sk-toggleable__content {max-height: 0;max-width: 0;overflow: hidden;text-align: left;background-color: #f0f8ff;}#sk-container-id-1 div.sk-toggleable__content pre {margin: 0.2em;color: black;border-radius: 0.25em;background-color: #f0f8ff;}#sk-container-id-1 input.sk-toggleable__control:checked~div.sk-toggleable__content {max-height: 200px;max-width: 100%;overflow: auto;}#sk-container-id-1 input.sk-toggleable__control:checked~label.sk-toggleable__label-arrow:before {content: \"▾\";}#sk-container-id-1 div.sk-estimator input.sk-toggleable__control:checked~label.sk-toggleable__label {background-color: #d4ebff;}#sk-container-id-1 div.sk-label input.sk-toggleable__control:checked~label.sk-toggleable__label {background-color: #d4ebff;}#sk-container-id-1 input.sk-hidden--visually {border: 0;clip: rect(1px 1px 1px 1px);clip: rect(1px, 1px, 1px, 1px);height: 1px;margin: -1px;overflow: hidden;padding: 0;position: absolute;width: 1px;}#sk-container-id-1 div.sk-estimator {font-family: monospace;background-color: #f0f8ff;border: 1px dotted black;border-radius: 0.25em;box-sizing: border-box;margin-bottom: 0.5em;}#sk-container-id-1 div.sk-estimator:hover {background-color: #d4ebff;}#sk-container-id-1 div.sk-parallel-item::after {content: \"\";width: 100%;border-bottom: 1px solid gray;flex-grow: 1;}#sk-container-id-1 div.sk-label:hover label.sk-toggleable__label {background-color: #d4ebff;}#sk-container-id-1 div.sk-serial::before {content: \"\";position: absolute;border-left: 1px solid gray;box-sizing: border-box;top: 0;bottom: 0;left: 50%;z-index: 0;}#sk-container-id-1 div.sk-serial {display: flex;flex-direction: column;align-items: center;background-color: white;padding-right: 0.2em;padding-left: 0.2em;position: relative;}#sk-container-id-1 div.sk-item {position: relative;z-index: 1;}#sk-container-id-1 div.sk-parallel {display: flex;align-items: stretch;justify-content: center;background-color: white;position: relative;}#sk-container-id-1 div.sk-item::before, #sk-container-id-1 div.sk-parallel-item::before {content: \"\";position: absolute;border-left: 1px solid gray;box-sizing: border-box;top: 0;bottom: 0;left: 50%;z-index: -1;}#sk-container-id-1 div.sk-parallel-item {display: flex;flex-direction: column;z-index: 1;position: relative;background-color: white;}#sk-container-id-1 div.sk-parallel-item:first-child::after {align-self: flex-end;width: 50%;}#sk-container-id-1 div.sk-parallel-item:last-child::after {align-self: flex-start;width: 50%;}#sk-container-id-1 div.sk-parallel-item:only-child::after {width: 0;}#sk-container-id-1 div.sk-dashed-wrapped {border: 1px dashed gray;margin: 0 0.4em 0.5em 0.4em;box-sizing: border-box;padding-bottom: 0.4em;background-color: white;}#sk-container-id-1 div.sk-label label {font-family: monospace;font-weight: bold;display: inline-block;line-height: 1.2em;}#sk-container-id-1 div.sk-label-container {text-align: center;}#sk-container-id-1 div.sk-container {/* jupyter's `normalize.less` sets `[hidden] { display: none; }` but bootstrap.min.css set `[hidden] { display: none !important; }` so we also need the `!important` here to be able to override the default hidden behavior on the sphinx rendered scikit-learn.org. See: https://github.com/scikit-learn/scikit-learn/issues/21755 */display: inline-block !important;position: relative;}#sk-container-id-1 div.sk-text-repr-fallback {display: none;}</style><div id=\"sk-container-id-1\" class=\"sk-top-container\"><div class=\"sk-text-repr-fallback\"><pre>KNeighborsClassifier(n_neighbors=1)</pre><b>In a Jupyter environment, please rerun this cell to show the HTML representation or trust the notebook. <br />On GitHub, the HTML representation is unable to render, please try loading this page with nbviewer.org.</b></div><div class=\"sk-container\" hidden><div class=\"sk-item\"><div class=\"sk-estimator sk-toggleable\"><input class=\"sk-toggleable__control sk-hidden--visually\" id=\"sk-estimator-id-1\" type=\"checkbox\" checked><label for=\"sk-estimator-id-1\" class=\"sk-toggleable__label sk-toggleable__label-arrow\">KNeighborsClassifier</label><div class=\"sk-toggleable__content\"><pre>KNeighborsClassifier(n_neighbors=1)</pre></div></div></div></div></div>"
            ]
          },
          "metadata": {},
          "execution_count": 34
        }
      ]
    },
    {
      "cell_type": "code",
      "source": [
        "y_pred = knn_model.predict(X_test)"
      ],
      "metadata": {
        "id": "2ThepBPaeyam"
      },
      "execution_count": 35,
      "outputs": []
    },
    {
      "cell_type": "code",
      "source": [
        "print(classification_report(y_test, y_pred))"
      ],
      "metadata": {
        "colab": {
          "base_uri": "https://localhost:8080/"
        },
        "id": "6s_orrDZe_NJ",
        "outputId": "185b03da-0287-44e2-f7b7-f05c293bbd3f"
      },
      "execution_count": 36,
      "outputs": [
        {
          "output_type": "stream",
          "name": "stdout",
          "text": [
            "              precision    recall  f1-score   support\n",
            "\n",
            "           0       0.76      0.65      0.70      1341\n",
            "           1       0.82      0.89      0.86      2463\n",
            "\n",
            "    accuracy                           0.81      3804\n",
            "   macro avg       0.79      0.77      0.78      3804\n",
            "weighted avg       0.80      0.81      0.80      3804\n",
            "\n"
          ]
        }
      ]
    },
    {
      "cell_type": "markdown",
      "source": [
        "# MODEL - NAIVE BAYES RULE\n",
        "# Formula: P(A|B) = (P(B|A) * P(A)) / P(B)\n",
        "Prior Probability (P(A)): It represents the probability of an event A occurring without considering any additional evidence.\n",
        "\n",
        "Likelihood (P(B|A)): It denotes the probability of observing evidence B given that event A has occurred. In other words, it quantifies how likely the evidence is if the event is true.\n",
        "\n",
        "Posterior Probability (P(A|B)): It is the probability of the event A happening given the evidence B. This is what we want to calculate using Naive Bayes.\n",
        "\n",
        "Marginal Likelihood (P(B)): It represents the probability of observing the evidence B, irrespective of any specific event."
      ],
      "metadata": {
        "id": "jRyq21pbf6Jq"
      }
    },
    {
      "cell_type": "code",
      "source": [
        "from sklearn.naive_bayes import GaussianNB"
      ],
      "metadata": {
        "id": "5ZaPCts4gwZK"
      },
      "execution_count": null,
      "outputs": []
    },
    {
      "cell_type": "code",
      "source": [
        "nb_model = GaussianNB()\n",
        "nb_model = nb_model.fit(X_train, y_train)"
      ],
      "metadata": {
        "id": "gh-OYW_3kwTj"
      },
      "execution_count": null,
      "outputs": []
    },
    {
      "cell_type": "code",
      "source": [
        "y_pred = nb_model.predict(X_test)"
      ],
      "metadata": {
        "id": "ZhGvZTUlmYYy"
      },
      "execution_count": null,
      "outputs": []
    },
    {
      "cell_type": "code",
      "source": [
        "print(classification_report(y_test, y_pred))"
      ],
      "metadata": {
        "colab": {
          "base_uri": "https://localhost:8080/"
        },
        "id": "SmrpLmjXmkJ8",
        "outputId": "303d9610-74ff-4b72-d47a-ad771d883092"
      },
      "execution_count": null,
      "outputs": [
        {
          "output_type": "stream",
          "name": "stdout",
          "text": [
            "              precision    recall  f1-score   support\n",
            "\n",
            "           0       0.71      0.43      0.54      1339\n",
            "           1       0.75      0.90      0.82      2465\n",
            "\n",
            "    accuracy                           0.74      3804\n",
            "   macro avg       0.73      0.67      0.68      3804\n",
            "weighted avg       0.73      0.74      0.72      3804\n",
            "\n"
          ]
        }
      ]
    },
    {
      "cell_type": "markdown",
      "source": [
        "# MODEL - LOGICSTICAL REGRESSION\n",
        "p(x) = 1 / [1 + e^-(β0 + β1*x)]\n",
        "\n",
        "Here:\n",
        "\n",
        "p(x) is the probability of the positive class.\n",
        "e is the base of the natural logarithm, approximately equal to 2.71828.\n",
        "β0 is the intercept from the logistic regression equation.\n",
        "β1 is the coefficient for the independent variable x from the logistic regression equation."
      ],
      "metadata": {
        "id": "3QZgOSA72mTt"
      }
    },
    {
      "cell_type": "code",
      "source": [
        "from sklearn.linear_model import LogisticRegression"
      ],
      "metadata": {
        "id": "uLowwsJ92sLa"
      },
      "execution_count": 2,
      "outputs": []
    },
    {
      "cell_type": "code",
      "source": [
        "lg_model = LogisticRegression()\n",
        "lg_model = lg_model.fit(X_train, y_train)"
      ],
      "metadata": {
        "id": "Dyp4WUaH4oT4"
      },
      "execution_count": 10,
      "outputs": []
    },
    {
      "cell_type": "code",
      "source": [
        "y_pred = lg_model.predict(X_train)\n",
        "print(classification_report(y_train, y_pred))"
      ],
      "metadata": {
        "colab": {
          "base_uri": "https://localhost:8080/"
        },
        "id": "rlFPXfYG5Xwb",
        "outputId": "56361dc6-7a48-4367-c5a4-c8246944bcd4"
      },
      "execution_count": 14,
      "outputs": [
        {
          "output_type": "stream",
          "name": "stdout",
          "text": [
            "              precision    recall  f1-score   support\n",
            "\n",
            "           0       0.79      0.71      0.75      7389\n",
            "           1       0.74      0.81      0.77      7389\n",
            "\n",
            "    accuracy                           0.76     14778\n",
            "   macro avg       0.76      0.76      0.76     14778\n",
            "weighted avg       0.76      0.76      0.76     14778\n",
            "\n"
          ]
        }
      ]
    },
    {
      "cell_type": "markdown",
      "source": [
        "# SUPPORT VECTOR MACHINES (SVM)\n",
        "- find a line of the graph that best divides the data\n",
        "Here is a basic formulation of a linear SVM for a binary classification problem:\n",
        "\n",
        "Given a set of training examples {(x₁, y₁), (x₂, y₂), ..., (xn, yn)} where xi ∈ Rᵈ is a feature vector and yi ∈ {-1, 1} is the class label, we need to find a hyperplane defined by w and b that separates the two classes.\n",
        "\n",
        "The equation of the hyperplane is given by: w.x + b = 0, where w is the weight vector and b is the bias term.\n",
        "\n",
        "The decision function that classifies the input x is sign(w.x + b). If (w.x + b) > 0, the class label is 1, otherwise, it is -1.\n",
        "\n",
        "To find the optimal hyperplane, we want to maximize the margin which is defined as 2/||w||. So, the problem can be formulated as minimizing ||w||² / 2 subject to the constraint that for all (xi, yi), yi(w.xi + b) >= 1. This is a quadratic programming problem."
      ],
      "metadata": {
        "id": "s75w-eaw5r8f"
      }
    },
    {
      "cell_type": "code",
      "source": [
        "from sklearn.svm import SVC"
      ],
      "metadata": {
        "id": "zOoj5Rk96DIF"
      },
      "execution_count": 15,
      "outputs": []
    },
    {
      "cell_type": "code",
      "source": [
        "svm_model = SVC()\n",
        "svm_model = svm_model.fit(X_train, y_train)\n",
        "y_pred = svm_model.predict(X_test)\n",
        "print(classification_report(y_test, y_pred))"
      ],
      "metadata": {
        "colab": {
          "base_uri": "https://localhost:8080/"
        },
        "id": "-NUzes-i8N2x",
        "outputId": "1a68ada4-cb17-40e7-d0f1-7e990b3fa2f5"
      },
      "execution_count": 17,
      "outputs": [
        {
          "output_type": "stream",
          "name": "stdout",
          "text": [
            "              precision    recall  f1-score   support\n",
            "\n",
            "           0       0.83      0.79      0.81      1341\n",
            "           1       0.89      0.91      0.90      2463\n",
            "\n",
            "    accuracy                           0.87      3804\n",
            "   macro avg       0.86      0.85      0.85      3804\n",
            "weighted avg       0.87      0.87      0.87      3804\n",
            "\n"
          ]
        }
      ]
    },
    {
      "cell_type": "markdown",
      "source": [
        "# NEURAL NETWORKS - Library = Tensorflow\n",
        "Components of a Neural Network:\n",
        "\n",
        "Input Layer: The first layer of the network receives the raw input signals. Each input to the network corresponds to a different feature of the dataset. For example, for a neural network processing images, each pixel in the image would be a separate input.\n",
        "\n",
        "Hidden Layers: After the input layer, there are one or more layers of neurons called hidden layers. These layers perform computations and transfer information from the input nodes to the output nodes. A neural network with more than one hidden layer is often referred to as a deep neural network.\n",
        "\n",
        "Output Layer: The final layer is called the output layer. The output layer provides the result for the given inputs after processing through the network. In a classification task, for instance, the output layer would produce the predicted class of the input.\n",
        "\n",
        "Activation Function: Each neuron has an associated activation function, which transforms the input in some way. Common activation functions include the sigmoid function, the ReLU (rectified linear unit) function, the tanh (hyperbolic tangent) function, and the softmax function.\n",
        "\n",
        "Learning Process: Learning in a neural network involves iteratively adjusting the weights of the connections to minimize the difference between the actual output and the predicted output for many inputs. This process is typically achieved via an optimization algorithm called stochastic gradient descent and a procedure called backpropagation."
      ],
      "metadata": {
        "id": "zidBVlVs9Z6A"
      }
    },
    {
      "cell_type": "code",
      "source": [
        "import tensorflow as tf"
      ],
      "metadata": {
        "id": "67-EPXnvCa4R"
      },
      "execution_count": 23,
      "outputs": []
    },
    {
      "cell_type": "code",
      "source": [
        "# to plot graphs\n",
        "def plot_loss(history):\n",
        "  plt.plot(history.history['loss'], label='loss')\n",
        "  plt.plot(history.history['val_loss'], label=\"val_loss\"),\n",
        "  plt.xlabel('Epoch')\n",
        "  plt.ylabel('Binary crossentropy')\n",
        "  plt.legend()\n",
        "  plt.grid(True)\n",
        "  plt.show()\n",
        "\n",
        "def plot_accuracy(history):\n",
        "  plt.plot(history.history['accuracy'], label='accuracy')\n",
        "  plt.plot(history.history['val_accuracy'], label=\"val_accuracy\"),\n",
        "  plt.xlabel('Epoch')\n",
        "  plt.ylabel('Accuracy')\n",
        "  plt.legend()\n",
        "  plt.grid(True)\n",
        "  plt.show()"
      ],
      "metadata": {
        "id": "I7IV935sFkHA"
      },
      "execution_count": 24,
      "outputs": []
    },
    {
      "cell_type": "code",
      "source": [
        "nn_model = tf.keras.Sequential([\n",
        "    tf.keras.layers.Dense(32, activation='relu', input_shape=(9,)),\n",
        "    tf.keras.layers.Dense(32, activation='relu'),\n",
        "    tf.keras.layers.Dense(1, activation='sigmoid') # by enabling sigmoid from linear regression we making our perdiction between 0 and 1\n",
        "])\n",
        "\n",
        "nn_model.compile(optimizer=tf.keras.optimizers.Adam(0.001), loss='binary_crossentropy',\n",
        "                 metrics=['accuracy'])"
      ],
      "metadata": {
        "id": "RyUr8OnnD_8e"
      },
      "execution_count": 39,
      "outputs": []
    },
    {
      "cell_type": "code",
      "source": [
        "# you can verbose=0 as a final argument to not print any of the training\n",
        "history = nn_model.fit(\n",
        "    X_train, y_train, epochs=100, batch_size=32, validation_split=0.2\n",
        ")"
      ],
      "metadata": {
        "colab": {
          "base_uri": "https://localhost:8080/"
        },
        "id": "RmAC_BzIG0AM",
        "outputId": "99fa2718-1cf6-4dbe-8a15-b9961c839adb"
      },
      "execution_count": 40,
      "outputs": [
        {
          "output_type": "stream",
          "name": "stdout",
          "text": [
            "Epoch 1/100\n",
            "370/370 [==============================] - 2s 3ms/step - loss: 0.4726 - accuracy: 0.7707 - val_loss: 0.6154 - val_accuracy: 0.6627\n",
            "Epoch 2/100\n",
            "370/370 [==============================] - 1s 2ms/step - loss: 0.3910 - accuracy: 0.8265 - val_loss: 0.5750 - val_accuracy: 0.7067\n",
            "Epoch 3/100\n",
            "370/370 [==============================] - 1s 2ms/step - loss: 0.3728 - accuracy: 0.8400 - val_loss: 0.6398 - val_accuracy: 0.6861\n",
            "Epoch 4/100\n",
            "370/370 [==============================] - 1s 2ms/step - loss: 0.3628 - accuracy: 0.8477 - val_loss: 0.5186 - val_accuracy: 0.7601\n",
            "Epoch 5/100\n",
            "370/370 [==============================] - 1s 2ms/step - loss: 0.3570 - accuracy: 0.8505 - val_loss: 0.5912 - val_accuracy: 0.7172\n",
            "Epoch 6/100\n",
            "370/370 [==============================] - 1s 3ms/step - loss: 0.3503 - accuracy: 0.8513 - val_loss: 0.4807 - val_accuracy: 0.7683\n",
            "Epoch 7/100\n",
            "370/370 [==============================] - 1s 4ms/step - loss: 0.3455 - accuracy: 0.8517 - val_loss: 0.5632 - val_accuracy: 0.7314\n",
            "Epoch 8/100\n",
            "370/370 [==============================] - 1s 3ms/step - loss: 0.3425 - accuracy: 0.8510 - val_loss: 0.4914 - val_accuracy: 0.7578\n",
            "Epoch 9/100\n",
            "370/370 [==============================] - 1s 2ms/step - loss: 0.3379 - accuracy: 0.8560 - val_loss: 0.5173 - val_accuracy: 0.7432\n",
            "Epoch 10/100\n",
            "370/370 [==============================] - 1s 2ms/step - loss: 0.3362 - accuracy: 0.8554 - val_loss: 0.4642 - val_accuracy: 0.7632\n",
            "Epoch 11/100\n",
            "370/370 [==============================] - 1s 2ms/step - loss: 0.3331 - accuracy: 0.8599 - val_loss: 0.5570 - val_accuracy: 0.7240\n",
            "Epoch 12/100\n",
            "370/370 [==============================] - 1s 2ms/step - loss: 0.3302 - accuracy: 0.8605 - val_loss: 0.4979 - val_accuracy: 0.7514\n",
            "Epoch 13/100\n",
            "370/370 [==============================] - 1s 2ms/step - loss: 0.3280 - accuracy: 0.8593 - val_loss: 0.5291 - val_accuracy: 0.7287\n",
            "Epoch 14/100\n",
            "370/370 [==============================] - 1s 2ms/step - loss: 0.3267 - accuracy: 0.8596 - val_loss: 0.5431 - val_accuracy: 0.7250\n",
            "Epoch 15/100\n",
            "370/370 [==============================] - 1s 2ms/step - loss: 0.3240 - accuracy: 0.8609 - val_loss: 0.4541 - val_accuracy: 0.7669\n",
            "Epoch 16/100\n",
            "370/370 [==============================] - 1s 2ms/step - loss: 0.3222 - accuracy: 0.8638 - val_loss: 0.4276 - val_accuracy: 0.7855\n",
            "Epoch 17/100\n",
            "370/370 [==============================] - 1s 2ms/step - loss: 0.3212 - accuracy: 0.8624 - val_loss: 0.4753 - val_accuracy: 0.7581\n",
            "Epoch 18/100\n",
            "370/370 [==============================] - 1s 2ms/step - loss: 0.3198 - accuracy: 0.8648 - val_loss: 0.4618 - val_accuracy: 0.7679\n",
            "Epoch 19/100\n",
            "370/370 [==============================] - 1s 2ms/step - loss: 0.3187 - accuracy: 0.8641 - val_loss: 0.4826 - val_accuracy: 0.7530\n",
            "Epoch 20/100\n",
            "370/370 [==============================] - 1s 2ms/step - loss: 0.3177 - accuracy: 0.8643 - val_loss: 0.4522 - val_accuracy: 0.7764\n",
            "Epoch 21/100\n",
            "370/370 [==============================] - 1s 3ms/step - loss: 0.3160 - accuracy: 0.8653 - val_loss: 0.4517 - val_accuracy: 0.7713\n",
            "Epoch 22/100\n",
            "370/370 [==============================] - 1s 4ms/step - loss: 0.3145 - accuracy: 0.8643 - val_loss: 0.4512 - val_accuracy: 0.7710\n",
            "Epoch 23/100\n",
            "370/370 [==============================] - 1s 2ms/step - loss: 0.3138 - accuracy: 0.8632 - val_loss: 0.4581 - val_accuracy: 0.7666\n",
            "Epoch 24/100\n",
            "370/370 [==============================] - 1s 2ms/step - loss: 0.3133 - accuracy: 0.8638 - val_loss: 0.4044 - val_accuracy: 0.7913\n",
            "Epoch 25/100\n",
            "370/370 [==============================] - 1s 2ms/step - loss: 0.3124 - accuracy: 0.8657 - val_loss: 0.4083 - val_accuracy: 0.7892\n",
            "Epoch 26/100\n",
            "370/370 [==============================] - 1s 2ms/step - loss: 0.3117 - accuracy: 0.8672 - val_loss: 0.4349 - val_accuracy: 0.7774\n",
            "Epoch 27/100\n",
            "370/370 [==============================] - 1s 2ms/step - loss: 0.3122 - accuracy: 0.8657 - val_loss: 0.5380 - val_accuracy: 0.7280\n",
            "Epoch 28/100\n",
            "370/370 [==============================] - 1s 2ms/step - loss: 0.3107 - accuracy: 0.8659 - val_loss: 0.4570 - val_accuracy: 0.7673\n",
            "Epoch 29/100\n",
            "370/370 [==============================] - 1s 2ms/step - loss: 0.3085 - accuracy: 0.8652 - val_loss: 0.4503 - val_accuracy: 0.7659\n",
            "Epoch 30/100\n",
            "370/370 [==============================] - 1s 2ms/step - loss: 0.3086 - accuracy: 0.8669 - val_loss: 0.4948 - val_accuracy: 0.7419\n",
            "Epoch 31/100\n",
            "370/370 [==============================] - 1s 2ms/step - loss: 0.3082 - accuracy: 0.8656 - val_loss: 0.4142 - val_accuracy: 0.7808\n",
            "Epoch 32/100\n",
            "370/370 [==============================] - 1s 2ms/step - loss: 0.3079 - accuracy: 0.8670 - val_loss: 0.4380 - val_accuracy: 0.7700\n",
            "Epoch 33/100\n",
            "370/370 [==============================] - 1s 2ms/step - loss: 0.3061 - accuracy: 0.8680 - val_loss: 0.4566 - val_accuracy: 0.7635\n",
            "Epoch 34/100\n",
            "370/370 [==============================] - 1s 2ms/step - loss: 0.3051 - accuracy: 0.8694 - val_loss: 0.5221 - val_accuracy: 0.7283\n",
            "Epoch 35/100\n",
            "370/370 [==============================] - 1s 3ms/step - loss: 0.3049 - accuracy: 0.8675 - val_loss: 0.4118 - val_accuracy: 0.7960\n",
            "Epoch 36/100\n",
            "370/370 [==============================] - 1s 4ms/step - loss: 0.3044 - accuracy: 0.8700 - val_loss: 0.5065 - val_accuracy: 0.7378\n",
            "Epoch 37/100\n",
            "370/370 [==============================] - 1s 2ms/step - loss: 0.3053 - accuracy: 0.8680 - val_loss: 0.5034 - val_accuracy: 0.7382\n",
            "Epoch 38/100\n",
            "370/370 [==============================] - 1s 2ms/step - loss: 0.3039 - accuracy: 0.8677 - val_loss: 0.4547 - val_accuracy: 0.7632\n",
            "Epoch 39/100\n",
            "370/370 [==============================] - 1s 2ms/step - loss: 0.3026 - accuracy: 0.8684 - val_loss: 0.3948 - val_accuracy: 0.7980\n",
            "Epoch 40/100\n",
            "370/370 [==============================] - 1s 2ms/step - loss: 0.3030 - accuracy: 0.8689 - val_loss: 0.5167 - val_accuracy: 0.7334\n",
            "Epoch 41/100\n",
            "370/370 [==============================] - 1s 2ms/step - loss: 0.3018 - accuracy: 0.8690 - val_loss: 0.4620 - val_accuracy: 0.7605\n",
            "Epoch 42/100\n",
            "370/370 [==============================] - 1s 2ms/step - loss: 0.3009 - accuracy: 0.8684 - val_loss: 0.4638 - val_accuracy: 0.7652\n",
            "Epoch 43/100\n",
            "370/370 [==============================] - 1s 2ms/step - loss: 0.3009 - accuracy: 0.8705 - val_loss: 0.4738 - val_accuracy: 0.7544\n",
            "Epoch 44/100\n",
            "370/370 [==============================] - 1s 2ms/step - loss: 0.3019 - accuracy: 0.8693 - val_loss: 0.4873 - val_accuracy: 0.7507\n",
            "Epoch 45/100\n",
            "370/370 [==============================] - 1s 2ms/step - loss: 0.3000 - accuracy: 0.8686 - val_loss: 0.4659 - val_accuracy: 0.7608\n",
            "Epoch 46/100\n",
            "370/370 [==============================] - 1s 2ms/step - loss: 0.2997 - accuracy: 0.8704 - val_loss: 0.4561 - val_accuracy: 0.7629\n",
            "Epoch 47/100\n",
            "370/370 [==============================] - 1s 2ms/step - loss: 0.3000 - accuracy: 0.8687 - val_loss: 0.4522 - val_accuracy: 0.7588\n",
            "Epoch 48/100\n",
            "370/370 [==============================] - 1s 2ms/step - loss: 0.2989 - accuracy: 0.8705 - val_loss: 0.4522 - val_accuracy: 0.7679\n",
            "Epoch 49/100\n",
            "370/370 [==============================] - 1s 3ms/step - loss: 0.2976 - accuracy: 0.8699 - val_loss: 0.4827 - val_accuracy: 0.7497\n",
            "Epoch 50/100\n",
            "370/370 [==============================] - 1s 4ms/step - loss: 0.2988 - accuracy: 0.8714 - val_loss: 0.4458 - val_accuracy: 0.7608\n",
            "Epoch 51/100\n",
            "370/370 [==============================] - 1s 3ms/step - loss: 0.2977 - accuracy: 0.8696 - val_loss: 0.4379 - val_accuracy: 0.7703\n",
            "Epoch 52/100\n",
            "370/370 [==============================] - 1s 2ms/step - loss: 0.2975 - accuracy: 0.8713 - val_loss: 0.4389 - val_accuracy: 0.7727\n",
            "Epoch 53/100\n",
            "370/370 [==============================] - 1s 2ms/step - loss: 0.2964 - accuracy: 0.8707 - val_loss: 0.4802 - val_accuracy: 0.7497\n",
            "Epoch 54/100\n",
            "370/370 [==============================] - 1s 2ms/step - loss: 0.2969 - accuracy: 0.8699 - val_loss: 0.4430 - val_accuracy: 0.7781\n",
            "Epoch 55/100\n",
            "370/370 [==============================] - 1s 2ms/step - loss: 0.2966 - accuracy: 0.8707 - val_loss: 0.3760 - val_accuracy: 0.8024\n",
            "Epoch 56/100\n",
            "370/370 [==============================] - 1s 2ms/step - loss: 0.2964 - accuracy: 0.8707 - val_loss: 0.4477 - val_accuracy: 0.7693\n",
            "Epoch 57/100\n",
            "370/370 [==============================] - 1s 2ms/step - loss: 0.2952 - accuracy: 0.8736 - val_loss: 0.4857 - val_accuracy: 0.7558\n",
            "Epoch 58/100\n",
            "370/370 [==============================] - 1s 2ms/step - loss: 0.2953 - accuracy: 0.8734 - val_loss: 0.4522 - val_accuracy: 0.7696\n",
            "Epoch 59/100\n",
            "370/370 [==============================] - 1s 2ms/step - loss: 0.2945 - accuracy: 0.8709 - val_loss: 0.4202 - val_accuracy: 0.7855\n",
            "Epoch 60/100\n",
            "370/370 [==============================] - 1s 2ms/step - loss: 0.2952 - accuracy: 0.8721 - val_loss: 0.4290 - val_accuracy: 0.7784\n",
            "Epoch 61/100\n",
            "370/370 [==============================] - 1s 2ms/step - loss: 0.2934 - accuracy: 0.8739 - val_loss: 0.4208 - val_accuracy: 0.7777\n",
            "Epoch 62/100\n",
            "370/370 [==============================] - 1s 2ms/step - loss: 0.2935 - accuracy: 0.8740 - val_loss: 0.4526 - val_accuracy: 0.7713\n",
            "Epoch 63/100\n",
            "370/370 [==============================] - 1s 3ms/step - loss: 0.2924 - accuracy: 0.8739 - val_loss: 0.3732 - val_accuracy: 0.8075\n",
            "Epoch 64/100\n",
            "370/370 [==============================] - 1s 3ms/step - loss: 0.2932 - accuracy: 0.8730 - val_loss: 0.5248 - val_accuracy: 0.7382\n",
            "Epoch 65/100\n",
            "370/370 [==============================] - 1s 3ms/step - loss: 0.2929 - accuracy: 0.8738 - val_loss: 0.4367 - val_accuracy: 0.7744\n",
            "Epoch 66/100\n",
            "370/370 [==============================] - 1s 2ms/step - loss: 0.2916 - accuracy: 0.8739 - val_loss: 0.4532 - val_accuracy: 0.7696\n",
            "Epoch 67/100\n",
            "370/370 [==============================] - 1s 2ms/step - loss: 0.2909 - accuracy: 0.8740 - val_loss: 0.4131 - val_accuracy: 0.7936\n",
            "Epoch 68/100\n",
            "370/370 [==============================] - 1s 2ms/step - loss: 0.2916 - accuracy: 0.8745 - val_loss: 0.3873 - val_accuracy: 0.8031\n",
            "Epoch 69/100\n",
            "370/370 [==============================] - 1s 2ms/step - loss: 0.2909 - accuracy: 0.8735 - val_loss: 0.4479 - val_accuracy: 0.7673\n",
            "Epoch 70/100\n",
            "370/370 [==============================] - 1s 2ms/step - loss: 0.2903 - accuracy: 0.8746 - val_loss: 0.4536 - val_accuracy: 0.7625\n",
            "Epoch 71/100\n",
            "370/370 [==============================] - 1s 2ms/step - loss: 0.2903 - accuracy: 0.8757 - val_loss: 0.4005 - val_accuracy: 0.7936\n",
            "Epoch 72/100\n",
            "370/370 [==============================] - 1s 2ms/step - loss: 0.2895 - accuracy: 0.8764 - val_loss: 0.5096 - val_accuracy: 0.7419\n",
            "Epoch 73/100\n",
            "370/370 [==============================] - 1s 2ms/step - loss: 0.2902 - accuracy: 0.8738 - val_loss: 0.3527 - val_accuracy: 0.8227\n",
            "Epoch 74/100\n",
            "370/370 [==============================] - 1s 2ms/step - loss: 0.2893 - accuracy: 0.8753 - val_loss: 0.3982 - val_accuracy: 0.7957\n",
            "Epoch 75/100\n",
            "370/370 [==============================] - 1s 2ms/step - loss: 0.2888 - accuracy: 0.8751 - val_loss: 0.4150 - val_accuracy: 0.7923\n",
            "Epoch 76/100\n",
            "370/370 [==============================] - 1s 2ms/step - loss: 0.2888 - accuracy: 0.8746 - val_loss: 0.4565 - val_accuracy: 0.7632\n",
            "Epoch 77/100\n",
            "370/370 [==============================] - 1s 3ms/step - loss: 0.2876 - accuracy: 0.8753 - val_loss: 0.4649 - val_accuracy: 0.7581\n",
            "Epoch 78/100\n",
            "370/370 [==============================] - 1s 3ms/step - loss: 0.2876 - accuracy: 0.8750 - val_loss: 0.4067 - val_accuracy: 0.7859\n",
            "Epoch 79/100\n",
            "370/370 [==============================] - 1s 3ms/step - loss: 0.2878 - accuracy: 0.8761 - val_loss: 0.4269 - val_accuracy: 0.7730\n",
            "Epoch 80/100\n",
            "370/370 [==============================] - 1s 2ms/step - loss: 0.2877 - accuracy: 0.8749 - val_loss: 0.4194 - val_accuracy: 0.7818\n",
            "Epoch 81/100\n",
            "370/370 [==============================] - 1s 2ms/step - loss: 0.2878 - accuracy: 0.8754 - val_loss: 0.3635 - val_accuracy: 0.8129\n",
            "Epoch 82/100\n",
            "370/370 [==============================] - 1s 2ms/step - loss: 0.2867 - accuracy: 0.8762 - val_loss: 0.4815 - val_accuracy: 0.7551\n",
            "Epoch 83/100\n",
            "370/370 [==============================] - 1s 2ms/step - loss: 0.2865 - accuracy: 0.8732 - val_loss: 0.4896 - val_accuracy: 0.7510\n",
            "Epoch 84/100\n",
            "370/370 [==============================] - 1s 2ms/step - loss: 0.2856 - accuracy: 0.8765 - val_loss: 0.4444 - val_accuracy: 0.7689\n",
            "Epoch 85/100\n",
            "370/370 [==============================] - 1s 2ms/step - loss: 0.2866 - accuracy: 0.8757 - val_loss: 0.4116 - val_accuracy: 0.7903\n",
            "Epoch 86/100\n",
            "370/370 [==============================] - 1s 2ms/step - loss: 0.2848 - accuracy: 0.8779 - val_loss: 0.3779 - val_accuracy: 0.8150\n",
            "Epoch 87/100\n",
            "370/370 [==============================] - 1s 2ms/step - loss: 0.2852 - accuracy: 0.8769 - val_loss: 0.4923 - val_accuracy: 0.7429\n",
            "Epoch 88/100\n",
            "370/370 [==============================] - 1s 2ms/step - loss: 0.2846 - accuracy: 0.8760 - val_loss: 0.3952 - val_accuracy: 0.8001\n",
            "Epoch 89/100\n",
            "370/370 [==============================] - 1s 2ms/step - loss: 0.2846 - accuracy: 0.8762 - val_loss: 0.4379 - val_accuracy: 0.7713\n",
            "Epoch 90/100\n",
            "370/370 [==============================] - 1s 2ms/step - loss: 0.2847 - accuracy: 0.8770 - val_loss: 0.3887 - val_accuracy: 0.8024\n",
            "Epoch 91/100\n",
            "370/370 [==============================] - 1s 3ms/step - loss: 0.2840 - accuracy: 0.8787 - val_loss: 0.4732 - val_accuracy: 0.7608\n",
            "Epoch 92/100\n",
            "370/370 [==============================] - 1s 4ms/step - loss: 0.2850 - accuracy: 0.8784 - val_loss: 0.4675 - val_accuracy: 0.7622\n",
            "Epoch 93/100\n",
            "370/370 [==============================] - 1s 3ms/step - loss: 0.2851 - accuracy: 0.8758 - val_loss: 0.4316 - val_accuracy: 0.7767\n",
            "Epoch 94/100\n",
            "370/370 [==============================] - 1s 2ms/step - loss: 0.2832 - accuracy: 0.8780 - val_loss: 0.4312 - val_accuracy: 0.7771\n",
            "Epoch 95/100\n",
            "370/370 [==============================] - 1s 2ms/step - loss: 0.2829 - accuracy: 0.8779 - val_loss: 0.4111 - val_accuracy: 0.7916\n",
            "Epoch 96/100\n",
            "370/370 [==============================] - 1s 2ms/step - loss: 0.2829 - accuracy: 0.8764 - val_loss: 0.4186 - val_accuracy: 0.7764\n",
            "Epoch 97/100\n",
            "370/370 [==============================] - 1s 2ms/step - loss: 0.2826 - accuracy: 0.8784 - val_loss: 0.4527 - val_accuracy: 0.7629\n",
            "Epoch 98/100\n",
            "370/370 [==============================] - 1s 2ms/step - loss: 0.2822 - accuracy: 0.8777 - val_loss: 0.4275 - val_accuracy: 0.7777\n",
            "Epoch 99/100\n",
            "370/370 [==============================] - 1s 2ms/step - loss: 0.2824 - accuracy: 0.8800 - val_loss: 0.4491 - val_accuracy: 0.7703\n",
            "Epoch 100/100\n",
            "370/370 [==============================] - 1s 2ms/step - loss: 0.2829 - accuracy: 0.8773 - val_loss: 0.4383 - val_accuracy: 0.7730\n"
          ]
        }
      ]
    },
    {
      "cell_type": "code",
      "source": [
        "plot_loss(history)\n",
        "plot_accuracy(history)"
      ],
      "metadata": {
        "colab": {
          "base_uri": "https://localhost:8080/",
          "height": 881
        },
        "id": "6PgUwAgdJ0WW",
        "outputId": "8a48be80-755f-4ab5-a825-14c313ac6933"
      },
      "execution_count": 41,
      "outputs": [
        {
          "output_type": "display_data",
          "data": {
            "text/plain": [
              "<Figure size 640x480 with 1 Axes>"
            ],
            "image/png": "[encoded data removed]"
          },
          "metadata": {}
        },
        {
          "output_type": "display_data",
          "data": {
            "text/plain": [
              "<Figure size 640x480 with 1 Axes>"
            ],
            "image/png": "[encoded data removed]"
          },
          "metadata": {}
        }
      ]
    }
  ]
}